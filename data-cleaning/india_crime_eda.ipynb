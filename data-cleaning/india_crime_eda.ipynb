{
  "nbformat": 4,
  "nbformat_minor": 0,
  "metadata": {
    "colab": {
      "provenance": [],
      "mount_file_id": "1x72WwxdIEzMMAewGagxGun0FgrsG1YAl",
      "authorship_tag": "ABX9TyNnVLM7SNHc9KzKZ7+Pslst",
      "include_colab_link": true
    },
    "kernelspec": {
      "name": "python3",
      "display_name": "Python 3"
    },
    "language_info": {
      "name": "python"
    }
  },
  "cells": [
    {
      "cell_type": "markdown",
      "metadata": {
        "id": "view-in-github",
        "colab_type": "text"
      },
      "source": [
        "<a href=\"https://colab.research.google.com/github/jagadish9084/learnbay-ds-ml-course/blob/main/data-cleaning/india_crime_eda.ipynb\" target=\"_parent\"><img src=\"https://colab.research.google.com/assets/colab-badge.svg\" alt=\"Open In Colab\"/></a>"
      ]
    },
    {
      "cell_type": "code",
      "source": [
        "#Import the library\n",
        "import pandas as pd\n",
        "import numpy as np\n",
        "import matplotlib.pyplot as plt\n",
        "import matplotlib.ticker\n",
        "import matplotlib.ticker\n",
        "import seaborn as sns\n",
        "import warnings\n",
        "from datetime import datetime\n",
        "\n",
        "\n",
        "warnings.filterwarnings('ignore')"
      ],
      "metadata": {
        "id": "qtXPYh82spAD"
      },
      "execution_count": 417,
      "outputs": []
    },
    {
      "cell_type": "code",
      "source": [
        "#Load the raw crime\n",
        "data  =  pd.read_csv('/content/drive/MyDrive/Colab Notebooks/learnbay-ds-ml-course/datasets/crime_dataset_india.csv')\n"
      ],
      "metadata": {
        "id": "DHbyocj6tBbQ"
      },
      "execution_count": 418,
      "outputs": []
    },
    {
      "cell_type": "markdown",
      "source": [
        "# Explore the data\n",
        "Display first few rows of the data frame to undestand the structure"
      ],
      "metadata": {
        "id": "1U4SkozO3bO0"
      }
    },
    {
      "cell_type": "code",
      "source": [
        "data.head()"
      ],
      "metadata": {
        "colab": {
          "base_uri": "https://localhost:8080/",
          "height": 206
        },
        "id": "P9tZRSI83txr",
        "outputId": "940993cf-0d95-46ec-9588-7e6197a5340f"
      },
      "execution_count": 419,
      "outputs": [
        {
          "output_type": "execute_result",
          "data": {
            "text/plain": [
              "   Report Number     Date Reported Date of Occurrence Time of Occurrence  \\\n",
              "0              1  02-01-2020 00:00   01-01-2020 00:00   01-01-2020 01:11   \n",
              "1              2  01-01-2020 19:00   01-01-2020 01:00   01-01-2020 06:26   \n",
              "2              3  02-01-2020 05:00   01-01-2020 02:00   01-01-2020 14:30   \n",
              "3              4  01-01-2020 05:00   01-01-2020 03:00   01-01-2020 14:46   \n",
              "4              5  01-01-2020 21:00   01-01-2020 04:00   01-01-2020 16:51   \n",
              "\n",
              "        City  Crime Code Crime Description  Victim Age Victim Gender  \\\n",
              "0  Ahmedabad         576    IDENTITY THEFT          16             M   \n",
              "1    Chennai         128          HOMICIDE          37             M   \n",
              "2   Ludhiana         271        KIDNAPPING          48             F   \n",
              "3       Pune         170          BURGLARY          49             F   \n",
              "4       Pune         421         VANDALISM          30             F   \n",
              "\n",
              "    Weapon Used   Crime Domain  Police Deployed Case Closed  Date Case Closed  \n",
              "0  Blunt Object  Violent Crime               13          No               NaN  \n",
              "1        Poison    Other Crime                9          No               NaN  \n",
              "2  Blunt Object    Other Crime               15          No               NaN  \n",
              "3       Firearm    Other Crime                1         Yes  29-04-2020 05:00  \n",
              "4         Other    Other Crime               18         Yes  08-01-2020 21:00  "
            ],
            "text/html": [
              "\n",
              "  <div id=\"df-c94d6b37-a99f-489a-9887-480e5a764abe\" class=\"colab-df-container\">\n",
              "    <div>\n",
              "<style scoped>\n",
              "    .dataframe tbody tr th:only-of-type {\n",
              "        vertical-align: middle;\n",
              "    }\n",
              "\n",
              "    .dataframe tbody tr th {\n",
              "        vertical-align: top;\n",
              "    }\n",
              "\n",
              "    .dataframe thead th {\n",
              "        text-align: right;\n",
              "    }\n",
              "</style>\n",
              "<table border=\"1\" class=\"dataframe\">\n",
              "  <thead>\n",
              "    <tr style=\"text-align: right;\">\n",
              "      <th></th>\n",
              "      <th>Report Number</th>\n",
              "      <th>Date Reported</th>\n",
              "      <th>Date of Occurrence</th>\n",
              "      <th>Time of Occurrence</th>\n",
              "      <th>City</th>\n",
              "      <th>Crime Code</th>\n",
              "      <th>Crime Description</th>\n",
              "      <th>Victim Age</th>\n",
              "      <th>Victim Gender</th>\n",
              "      <th>Weapon Used</th>\n",
              "      <th>Crime Domain</th>\n",
              "      <th>Police Deployed</th>\n",
              "      <th>Case Closed</th>\n",
              "      <th>Date Case Closed</th>\n",
              "    </tr>\n",
              "  </thead>\n",
              "  <tbody>\n",
              "    <tr>\n",
              "      <th>0</th>\n",
              "      <td>1</td>\n",
              "      <td>02-01-2020 00:00</td>\n",
              "      <td>01-01-2020 00:00</td>\n",
              "      <td>01-01-2020 01:11</td>\n",
              "      <td>Ahmedabad</td>\n",
              "      <td>576</td>\n",
              "      <td>IDENTITY THEFT</td>\n",
              "      <td>16</td>\n",
              "      <td>M</td>\n",
              "      <td>Blunt Object</td>\n",
              "      <td>Violent Crime</td>\n",
              "      <td>13</td>\n",
              "      <td>No</td>\n",
              "      <td>NaN</td>\n",
              "    </tr>\n",
              "    <tr>\n",
              "      <th>1</th>\n",
              "      <td>2</td>\n",
              "      <td>01-01-2020 19:00</td>\n",
              "      <td>01-01-2020 01:00</td>\n",
              "      <td>01-01-2020 06:26</td>\n",
              "      <td>Chennai</td>\n",
              "      <td>128</td>\n",
              "      <td>HOMICIDE</td>\n",
              "      <td>37</td>\n",
              "      <td>M</td>\n",
              "      <td>Poison</td>\n",
              "      <td>Other Crime</td>\n",
              "      <td>9</td>\n",
              "      <td>No</td>\n",
              "      <td>NaN</td>\n",
              "    </tr>\n",
              "    <tr>\n",
              "      <th>2</th>\n",
              "      <td>3</td>\n",
              "      <td>02-01-2020 05:00</td>\n",
              "      <td>01-01-2020 02:00</td>\n",
              "      <td>01-01-2020 14:30</td>\n",
              "      <td>Ludhiana</td>\n",
              "      <td>271</td>\n",
              "      <td>KIDNAPPING</td>\n",
              "      <td>48</td>\n",
              "      <td>F</td>\n",
              "      <td>Blunt Object</td>\n",
              "      <td>Other Crime</td>\n",
              "      <td>15</td>\n",
              "      <td>No</td>\n",
              "      <td>NaN</td>\n",
              "    </tr>\n",
              "    <tr>\n",
              "      <th>3</th>\n",
              "      <td>4</td>\n",
              "      <td>01-01-2020 05:00</td>\n",
              "      <td>01-01-2020 03:00</td>\n",
              "      <td>01-01-2020 14:46</td>\n",
              "      <td>Pune</td>\n",
              "      <td>170</td>\n",
              "      <td>BURGLARY</td>\n",
              "      <td>49</td>\n",
              "      <td>F</td>\n",
              "      <td>Firearm</td>\n",
              "      <td>Other Crime</td>\n",
              "      <td>1</td>\n",
              "      <td>Yes</td>\n",
              "      <td>29-04-2020 05:00</td>\n",
              "    </tr>\n",
              "    <tr>\n",
              "      <th>4</th>\n",
              "      <td>5</td>\n",
              "      <td>01-01-2020 21:00</td>\n",
              "      <td>01-01-2020 04:00</td>\n",
              "      <td>01-01-2020 16:51</td>\n",
              "      <td>Pune</td>\n",
              "      <td>421</td>\n",
              "      <td>VANDALISM</td>\n",
              "      <td>30</td>\n",
              "      <td>F</td>\n",
              "      <td>Other</td>\n",
              "      <td>Other Crime</td>\n",
              "      <td>18</td>\n",
              "      <td>Yes</td>\n",
              "      <td>08-01-2020 21:00</td>\n",
              "    </tr>\n",
              "  </tbody>\n",
              "</table>\n",
              "</div>\n",
              "    <div class=\"colab-df-buttons\">\n",
              "\n",
              "  <div class=\"colab-df-container\">\n",
              "    <button class=\"colab-df-convert\" onclick=\"convertToInteractive('df-c94d6b37-a99f-489a-9887-480e5a764abe')\"\n",
              "            title=\"Convert this dataframe to an interactive table.\"\n",
              "            style=\"display:none;\">\n",
              "\n",
              "  <svg xmlns=\"http://www.w3.org/2000/svg\" height=\"24px\" viewBox=\"0 -960 960 960\">\n",
              "    <path d=\"M120-120v-720h720v720H120Zm60-500h600v-160H180v160Zm220 220h160v-160H400v160Zm0 220h160v-160H400v160ZM180-400h160v-160H180v160Zm440 0h160v-160H620v160ZM180-180h160v-160H180v160Zm440 0h160v-160H620v160Z\"/>\n",
              "  </svg>\n",
              "    </button>\n",
              "\n",
              "  <style>\n",
              "    .colab-df-container {\n",
              "      display:flex;\n",
              "      gap: 12px;\n",
              "    }\n",
              "\n",
              "    .colab-df-convert {\n",
              "      background-color: #E8F0FE;\n",
              "      border: none;\n",
              "      border-radius: 50%;\n",
              "      cursor: pointer;\n",
              "      display: none;\n",
              "      fill: #1967D2;\n",
              "      height: 32px;\n",
              "      padding: 0 0 0 0;\n",
              "      width: 32px;\n",
              "    }\n",
              "\n",
              "    .colab-df-convert:hover {\n",
              "      background-color: #E2EBFA;\n",
              "      box-shadow: 0px 1px 2px rgba(60, 64, 67, 0.3), 0px 1px 3px 1px rgba(60, 64, 67, 0.15);\n",
              "      fill: #174EA6;\n",
              "    }\n",
              "\n",
              "    .colab-df-buttons div {\n",
              "      margin-bottom: 4px;\n",
              "    }\n",
              "\n",
              "    [theme=dark] .colab-df-convert {\n",
              "      background-color: #3B4455;\n",
              "      fill: #D2E3FC;\n",
              "    }\n",
              "\n",
              "    [theme=dark] .colab-df-convert:hover {\n",
              "      background-color: #434B5C;\n",
              "      box-shadow: 0px 1px 3px 1px rgba(0, 0, 0, 0.15);\n",
              "      filter: drop-shadow(0px 1px 2px rgba(0, 0, 0, 0.3));\n",
              "      fill: #FFFFFF;\n",
              "    }\n",
              "  </style>\n",
              "\n",
              "    <script>\n",
              "      const buttonEl =\n",
              "        document.querySelector('#df-c94d6b37-a99f-489a-9887-480e5a764abe button.colab-df-convert');\n",
              "      buttonEl.style.display =\n",
              "        google.colab.kernel.accessAllowed ? 'block' : 'none';\n",
              "\n",
              "      async function convertToInteractive(key) {\n",
              "        const element = document.querySelector('#df-c94d6b37-a99f-489a-9887-480e5a764abe');\n",
              "        const dataTable =\n",
              "          await google.colab.kernel.invokeFunction('convertToInteractive',\n",
              "                                                    [key], {});\n",
              "        if (!dataTable) return;\n",
              "\n",
              "        const docLinkHtml = 'Like what you see? Visit the ' +\n",
              "          '<a target=\"_blank\" href=https://colab.research.google.com/notebooks/data_table.ipynb>data table notebook</a>'\n",
              "          + ' to learn more about interactive tables.';\n",
              "        element.innerHTML = '';\n",
              "        dataTable['output_type'] = 'display_data';\n",
              "        await google.colab.output.renderOutput(dataTable, element);\n",
              "        const docLink = document.createElement('div');\n",
              "        docLink.innerHTML = docLinkHtml;\n",
              "        element.appendChild(docLink);\n",
              "      }\n",
              "    </script>\n",
              "  </div>\n",
              "\n",
              "\n",
              "<div id=\"df-695fa60f-cc9c-43a5-85c0-d0646046b3e3\">\n",
              "  <button class=\"colab-df-quickchart\" onclick=\"quickchart('df-695fa60f-cc9c-43a5-85c0-d0646046b3e3')\"\n",
              "            title=\"Suggest charts\"\n",
              "            style=\"display:none;\">\n",
              "\n",
              "<svg xmlns=\"http://www.w3.org/2000/svg\" height=\"24px\"viewBox=\"0 0 24 24\"\n",
              "     width=\"24px\">\n",
              "    <g>\n",
              "        <path d=\"M19 3H5c-1.1 0-2 .9-2 2v14c0 1.1.9 2 2 2h14c1.1 0 2-.9 2-2V5c0-1.1-.9-2-2-2zM9 17H7v-7h2v7zm4 0h-2V7h2v10zm4 0h-2v-4h2v4z\"/>\n",
              "    </g>\n",
              "</svg>\n",
              "  </button>\n",
              "\n",
              "<style>\n",
              "  .colab-df-quickchart {\n",
              "      --bg-color: #E8F0FE;\n",
              "      --fill-color: #1967D2;\n",
              "      --hover-bg-color: #E2EBFA;\n",
              "      --hover-fill-color: #174EA6;\n",
              "      --disabled-fill-color: #AAA;\n",
              "      --disabled-bg-color: #DDD;\n",
              "  }\n",
              "\n",
              "  [theme=dark] .colab-df-quickchart {\n",
              "      --bg-color: #3B4455;\n",
              "      --fill-color: #D2E3FC;\n",
              "      --hover-bg-color: #434B5C;\n",
              "      --hover-fill-color: #FFFFFF;\n",
              "      --disabled-bg-color: #3B4455;\n",
              "      --disabled-fill-color: #666;\n",
              "  }\n",
              "\n",
              "  .colab-df-quickchart {\n",
              "    background-color: var(--bg-color);\n",
              "    border: none;\n",
              "    border-radius: 50%;\n",
              "    cursor: pointer;\n",
              "    display: none;\n",
              "    fill: var(--fill-color);\n",
              "    height: 32px;\n",
              "    padding: 0;\n",
              "    width: 32px;\n",
              "  }\n",
              "\n",
              "  .colab-df-quickchart:hover {\n",
              "    background-color: var(--hover-bg-color);\n",
              "    box-shadow: 0 1px 2px rgba(60, 64, 67, 0.3), 0 1px 3px 1px rgba(60, 64, 67, 0.15);\n",
              "    fill: var(--button-hover-fill-color);\n",
              "  }\n",
              "\n",
              "  .colab-df-quickchart-complete:disabled,\n",
              "  .colab-df-quickchart-complete:disabled:hover {\n",
              "    background-color: var(--disabled-bg-color);\n",
              "    fill: var(--disabled-fill-color);\n",
              "    box-shadow: none;\n",
              "  }\n",
              "\n",
              "  .colab-df-spinner {\n",
              "    border: 2px solid var(--fill-color);\n",
              "    border-color: transparent;\n",
              "    border-bottom-color: var(--fill-color);\n",
              "    animation:\n",
              "      spin 1s steps(1) infinite;\n",
              "  }\n",
              "\n",
              "  @keyframes spin {\n",
              "    0% {\n",
              "      border-color: transparent;\n",
              "      border-bottom-color: var(--fill-color);\n",
              "      border-left-color: var(--fill-color);\n",
              "    }\n",
              "    20% {\n",
              "      border-color: transparent;\n",
              "      border-left-color: var(--fill-color);\n",
              "      border-top-color: var(--fill-color);\n",
              "    }\n",
              "    30% {\n",
              "      border-color: transparent;\n",
              "      border-left-color: var(--fill-color);\n",
              "      border-top-color: var(--fill-color);\n",
              "      border-right-color: var(--fill-color);\n",
              "    }\n",
              "    40% {\n",
              "      border-color: transparent;\n",
              "      border-right-color: var(--fill-color);\n",
              "      border-top-color: var(--fill-color);\n",
              "    }\n",
              "    60% {\n",
              "      border-color: transparent;\n",
              "      border-right-color: var(--fill-color);\n",
              "    }\n",
              "    80% {\n",
              "      border-color: transparent;\n",
              "      border-right-color: var(--fill-color);\n",
              "      border-bottom-color: var(--fill-color);\n",
              "    }\n",
              "    90% {\n",
              "      border-color: transparent;\n",
              "      border-bottom-color: var(--fill-color);\n",
              "    }\n",
              "  }\n",
              "</style>\n",
              "\n",
              "  <script>\n",
              "    async function quickchart(key) {\n",
              "      const quickchartButtonEl =\n",
              "        document.querySelector('#' + key + ' button');\n",
              "      quickchartButtonEl.disabled = true;  // To prevent multiple clicks.\n",
              "      quickchartButtonEl.classList.add('colab-df-spinner');\n",
              "      try {\n",
              "        const charts = await google.colab.kernel.invokeFunction(\n",
              "            'suggestCharts', [key], {});\n",
              "      } catch (error) {\n",
              "        console.error('Error during call to suggestCharts:', error);\n",
              "      }\n",
              "      quickchartButtonEl.classList.remove('colab-df-spinner');\n",
              "      quickchartButtonEl.classList.add('colab-df-quickchart-complete');\n",
              "    }\n",
              "    (() => {\n",
              "      let quickchartButtonEl =\n",
              "        document.querySelector('#df-695fa60f-cc9c-43a5-85c0-d0646046b3e3 button');\n",
              "      quickchartButtonEl.style.display =\n",
              "        google.colab.kernel.accessAllowed ? 'block' : 'none';\n",
              "    })();\n",
              "  </script>\n",
              "</div>\n",
              "\n",
              "    </div>\n",
              "  </div>\n"
            ],
            "application/vnd.google.colaboratory.intrinsic+json": {
              "type": "dataframe",
              "variable_name": "data",
              "summary": "{\n  \"name\": \"data\",\n  \"rows\": 40160,\n  \"fields\": [\n    {\n      \"column\": \"Report Number\",\n      \"properties\": {\n        \"dtype\": \"number\",\n        \"std\": 11593,\n        \"min\": 1,\n        \"max\": 40160,\n        \"num_unique_values\": 40160,\n        \"samples\": [\n          11032,\n          10507,\n          36399\n        ],\n        \"semantic_type\": \"\",\n        \"description\": \"\"\n      }\n    },\n    {\n      \"column\": \"Date Reported\",\n      \"properties\": {\n        \"dtype\": \"string\",\n        \"num_unique_values\": 25546,\n        \"samples\": [\n          \"09-03-2021 12:00\",\n          \"06-08-2023 04:00\",\n          \"27-01-2022 08:00\"\n        ],\n        \"semantic_type\": \"\",\n        \"description\": \"\"\n      }\n    },\n    {\n      \"column\": \"Date of Occurrence\",\n      \"properties\": {\n        \"dtype\": \"object\",\n        \"num_unique_values\": 40160,\n        \"samples\": [\n          \"04-04-2021 15:00\",\n          \"03-13-2021 18:00\",\n          \"02-25-2024 14:00\"\n        ],\n        \"semantic_type\": \"\",\n        \"description\": \"\"\n      }\n    },\n    {\n      \"column\": \"Time of Occurrence\",\n      \"properties\": {\n        \"dtype\": \"string\",\n        \"num_unique_values\": 39886,\n        \"samples\": [\n          \"01-04-2021 19:34\",\n          \"02-06-2020 20:29\",\n          \"22-05-2020 11:56\"\n        ],\n        \"semantic_type\": \"\",\n        \"description\": \"\"\n      }\n    },\n    {\n      \"column\": \"City\",\n      \"properties\": {\n        \"dtype\": \"category\",\n        \"num_unique_values\": 29,\n        \"samples\": [\n          \"Srinagar\",\n          \"Kanpur\",\n          \"Jaipur\"\n        ],\n        \"semantic_type\": \"\",\n        \"description\": \"\"\n      }\n    },\n    {\n      \"column\": \"Crime Code\",\n      \"properties\": {\n        \"dtype\": \"number\",\n        \"std\": 144,\n        \"min\": 100,\n        \"max\": 599,\n        \"num_unique_values\": 500,\n        \"samples\": [\n          382,\n          197,\n          149\n        ],\n        \"semantic_type\": \"\",\n        \"description\": \"\"\n      }\n    },\n    {\n      \"column\": \"Crime Description\",\n      \"properties\": {\n        \"dtype\": \"category\",\n        \"num_unique_values\": 21,\n        \"samples\": [\n          \"IDENTITY THEFT\",\n          \"ILLEGAL POSSESSION\",\n          \"TRAFFIC VIOLATION\"\n        ],\n        \"semantic_type\": \"\",\n        \"description\": \"\"\n      }\n    },\n    {\n      \"column\": \"Victim Age\",\n      \"properties\": {\n        \"dtype\": \"number\",\n        \"std\": 20,\n        \"min\": 10,\n        \"max\": 79,\n        \"num_unique_values\": 70,\n        \"samples\": [\n          33,\n          16,\n          10\n        ],\n        \"semantic_type\": \"\",\n        \"description\": \"\"\n      }\n    },\n    {\n      \"column\": \"Victim Gender\",\n      \"properties\": {\n        \"dtype\": \"category\",\n        \"num_unique_values\": 3,\n        \"samples\": [\n          \"M\",\n          \"F\",\n          \"X\"\n        ],\n        \"semantic_type\": \"\",\n        \"description\": \"\"\n      }\n    },\n    {\n      \"column\": \"Weapon Used\",\n      \"properties\": {\n        \"dtype\": \"category\",\n        \"num_unique_values\": 6,\n        \"samples\": [\n          \"Blunt Object\",\n          \"Poison\",\n          \"Explosives\"\n        ],\n        \"semantic_type\": \"\",\n        \"description\": \"\"\n      }\n    },\n    {\n      \"column\": \"Crime Domain\",\n      \"properties\": {\n        \"dtype\": \"category\",\n        \"num_unique_values\": 4,\n        \"samples\": [\n          \"Other Crime\",\n          \"Traffic Fatality\",\n          \"Violent Crime\"\n        ],\n        \"semantic_type\": \"\",\n        \"description\": \"\"\n      }\n    },\n    {\n      \"column\": \"Police Deployed\",\n      \"properties\": {\n        \"dtype\": \"number\",\n        \"std\": 5,\n        \"min\": 1,\n        \"max\": 19,\n        \"num_unique_values\": 19,\n        \"samples\": [\n          13,\n          8,\n          6\n        ],\n        \"semantic_type\": \"\",\n        \"description\": \"\"\n      }\n    },\n    {\n      \"column\": \"Case Closed\",\n      \"properties\": {\n        \"dtype\": \"category\",\n        \"num_unique_values\": 2,\n        \"samples\": [\n          \"Yes\",\n          \"No\"\n        ],\n        \"semantic_type\": \"\",\n        \"description\": \"\"\n      }\n    },\n    {\n      \"column\": \"Date Case Closed\",\n      \"properties\": {\n        \"dtype\": \"date\",\n        \"min\": \"2020-01-08 21:00:00\",\n        \"max\": \"2026-07-21 16:00:00\",\n        \"num_unique_values\": 16011,\n        \"samples\": [\n          \"21-01-2024 22:00\",\n          \"06-07-2023 02:00\"\n        ],\n        \"semantic_type\": \"\",\n        \"description\": \"\"\n      }\n    }\n  ]\n}"
            }
          },
          "metadata": {},
          "execution_count": 419
        }
      ]
    },
    {
      "cell_type": "code",
      "source": [
        "data.info()"
      ],
      "metadata": {
        "colab": {
          "base_uri": "https://localhost:8080/"
        },
        "id": "8ZegdkDq4oJ_",
        "outputId": "c7a013ab-b7c7-45fb-e19b-8f19194bd1ba"
      },
      "execution_count": 420,
      "outputs": [
        {
          "output_type": "stream",
          "name": "stdout",
          "text": [
            "<class 'pandas.core.frame.DataFrame'>\n",
            "RangeIndex: 40160 entries, 0 to 40159\n",
            "Data columns (total 14 columns):\n",
            " #   Column              Non-Null Count  Dtype \n",
            "---  ------              --------------  ----- \n",
            " 0   Report Number       40160 non-null  int64 \n",
            " 1   Date Reported       40160 non-null  object\n",
            " 2   Date of Occurrence  40160 non-null  object\n",
            " 3   Time of Occurrence  40160 non-null  object\n",
            " 4   City                40160 non-null  object\n",
            " 5   Crime Code          40160 non-null  int64 \n",
            " 6   Crime Description   40160 non-null  object\n",
            " 7   Victim Age          40160 non-null  int64 \n",
            " 8   Victim Gender       40160 non-null  object\n",
            " 9   Weapon Used         34370 non-null  object\n",
            " 10  Crime Domain        40160 non-null  object\n",
            " 11  Police Deployed     40160 non-null  int64 \n",
            " 12  Case Closed         40160 non-null  object\n",
            " 13  Date Case Closed    20062 non-null  object\n",
            "dtypes: int64(4), object(10)\n",
            "memory usage: 4.3+ MB\n"
          ]
        }
      ]
    },
    {
      "cell_type": "markdown",
      "source": [],
      "metadata": {
        "id": "ByYRZPfu4A_X"
      }
    },
    {
      "cell_type": "code",
      "source": [
        "print(f'Column names: {data.columns}')"
      ],
      "metadata": {
        "colab": {
          "base_uri": "https://localhost:8080/"
        },
        "id": "volUyAJIujyo",
        "outputId": "799cb02e-6d1f-4a7a-c08f-d5e1e64a24f4"
      },
      "execution_count": 421,
      "outputs": [
        {
          "output_type": "stream",
          "name": "stdout",
          "text": [
            "Column names: Index(['Report Number', 'Date Reported', 'Date of Occurrence',\n",
            "       'Time of Occurrence', 'City', 'Crime Code', 'Crime Description',\n",
            "       'Victim Age', 'Victim Gender', 'Weapon Used', 'Crime Domain',\n",
            "       'Police Deployed', 'Case Closed', 'Date Case Closed'],\n",
            "      dtype='object')\n"
          ]
        }
      ]
    },
    {
      "cell_type": "code",
      "source": [
        "print(f'Shape: {data.shape}')"
      ],
      "metadata": {
        "colab": {
          "base_uri": "https://localhost:8080/"
        },
        "id": "oUJzL7ad4ySI",
        "outputId": "87534b72-a63b-486f-fae6-473e92a8ec2e"
      },
      "execution_count": 422,
      "outputs": [
        {
          "output_type": "stream",
          "name": "stdout",
          "text": [
            "Shape: (40160, 14)\n"
          ]
        }
      ]
    },
    {
      "cell_type": "markdown",
      "source": [
        "# Data Preprocessing:\n",
        "\n",
        "Pre process the data to make it suitable for analysis. This included handling missing data, converting date columns to datetime objects, and renaming the columns."
      ],
      "metadata": {
        "id": "EX65gK1i5gjZ"
      }
    },
    {
      "cell_type": "code",
      "source": [
        "# Rename the Columns to snake case\n",
        "data.columns = data.columns.map(lambda cname : cname.lower().replace(' ','_'))\n",
        "print(f'Column names: {data.columns}')"
      ],
      "metadata": {
        "colab": {
          "base_uri": "https://localhost:8080/"
        },
        "id": "tLq_XAZT6H7k",
        "outputId": "7aae11c2-a2aa-4c94-95f1-495605d6ecad"
      },
      "execution_count": 423,
      "outputs": [
        {
          "output_type": "stream",
          "name": "stdout",
          "text": [
            "Column names: Index(['report_number', 'date_reported', 'date_of_occurrence',\n",
            "       'time_of_occurrence', 'city', 'crime_code', 'crime_description',\n",
            "       'victim_age', 'victim_gender', 'weapon_used', 'crime_domain',\n",
            "       'police_deployed', 'case_closed', 'date_case_closed'],\n",
            "      dtype='object')\n"
          ]
        }
      ]
    },
    {
      "cell_type": "code",
      "source": [
        "# Function to convert the date columns to datetime object\n",
        "def str_to_date_time(date_str):\n",
        "  valid_date_time = [\"%d-%m-%Y %H:%M\", \"%d/%m/%Y %H:%M\", \"%m-%d-%Y %H:%M\", \"%m/%d/%Y %H:%M\"]\n",
        "  if date_str is not None:\n",
        "    for fmt in valid_date_time:\n",
        "      try:\n",
        "        return pd.Timestamp(date_str)\n",
        "      except:\n",
        "        continue\n",
        "  return pd.NaT"
      ],
      "metadata": {
        "id": "GvYPjjO9xnhn"
      },
      "execution_count": 424,
      "outputs": []
    },
    {
      "cell_type": "code",
      "source": [
        "#Convert the date columns to datetime object\n",
        "data.date_reported = data.date_reported.apply(str_to_date_time)\n",
        "data.date_of_occurrence = data.date_of_occurrence.apply(str_to_date_time)\n",
        "data.time_of_occurrence = data.time_of_occurrence.apply(str_to_date_time)\n",
        "data.date_case_closed = data.date_case_closed.apply(str_to_date_time)"
      ],
      "metadata": {
        "id": "XrZMt-s04tPl"
      },
      "execution_count": 425,
      "outputs": []
    },
    {
      "cell_type": "code",
      "source": [
        "# Drop implicit index and make date_of_occurrence col as index\n",
        "data.set_index(\"date_of_occurrence\", inplace=True)\n",
        "data.head()"
      ],
      "metadata": {
        "colab": {
          "base_uri": "https://localhost:8080/",
          "height": 238
        },
        "id": "f-pXyGld7kTH",
        "outputId": "8b0dbad2-f2e9-480b-9191-53309f102314"
      },
      "execution_count": 426,
      "outputs": [
        {
          "output_type": "execute_result",
          "data": {
            "text/plain": [
              "                     report_number       date_reported  time_of_occurrence  \\\n",
              "date_of_occurrence                                                           \n",
              "2020-01-01 00:00:00              1 2020-02-01 00:00:00 2020-01-01 01:11:00   \n",
              "2020-01-01 01:00:00              2 2020-01-01 19:00:00 2020-01-01 06:26:00   \n",
              "2020-01-01 02:00:00              3 2020-02-01 05:00:00 2020-01-01 14:30:00   \n",
              "2020-01-01 03:00:00              4 2020-01-01 05:00:00 2020-01-01 14:46:00   \n",
              "2020-01-01 04:00:00              5 2020-01-01 21:00:00 2020-01-01 16:51:00   \n",
              "\n",
              "                          city  crime_code crime_description  victim_age  \\\n",
              "date_of_occurrence                                                         \n",
              "2020-01-01 00:00:00  Ahmedabad         576    IDENTITY THEFT          16   \n",
              "2020-01-01 01:00:00    Chennai         128          HOMICIDE          37   \n",
              "2020-01-01 02:00:00   Ludhiana         271        KIDNAPPING          48   \n",
              "2020-01-01 03:00:00       Pune         170          BURGLARY          49   \n",
              "2020-01-01 04:00:00       Pune         421         VANDALISM          30   \n",
              "\n",
              "                    victim_gender   weapon_used   crime_domain  \\\n",
              "date_of_occurrence                                               \n",
              "2020-01-01 00:00:00             M  Blunt Object  Violent Crime   \n",
              "2020-01-01 01:00:00             M        Poison    Other Crime   \n",
              "2020-01-01 02:00:00             F  Blunt Object    Other Crime   \n",
              "2020-01-01 03:00:00             F       Firearm    Other Crime   \n",
              "2020-01-01 04:00:00             F         Other    Other Crime   \n",
              "\n",
              "                     police_deployed case_closed    date_case_closed  \n",
              "date_of_occurrence                                                    \n",
              "2020-01-01 00:00:00               13          No                 NaT  \n",
              "2020-01-01 01:00:00                9          No                 NaT  \n",
              "2020-01-01 02:00:00               15          No                 NaT  \n",
              "2020-01-01 03:00:00                1         Yes 2020-04-29 05:00:00  \n",
              "2020-01-01 04:00:00               18         Yes 2020-08-01 21:00:00  "
            ],
            "text/html": [
              "\n",
              "  <div id=\"df-456eeeca-ca5f-4411-be95-5e356766d791\" class=\"colab-df-container\">\n",
              "    <div>\n",
              "<style scoped>\n",
              "    .dataframe tbody tr th:only-of-type {\n",
              "        vertical-align: middle;\n",
              "    }\n",
              "\n",
              "    .dataframe tbody tr th {\n",
              "        vertical-align: top;\n",
              "    }\n",
              "\n",
              "    .dataframe thead th {\n",
              "        text-align: right;\n",
              "    }\n",
              "</style>\n",
              "<table border=\"1\" class=\"dataframe\">\n",
              "  <thead>\n",
              "    <tr style=\"text-align: right;\">\n",
              "      <th></th>\n",
              "      <th>report_number</th>\n",
              "      <th>date_reported</th>\n",
              "      <th>time_of_occurrence</th>\n",
              "      <th>city</th>\n",
              "      <th>crime_code</th>\n",
              "      <th>crime_description</th>\n",
              "      <th>victim_age</th>\n",
              "      <th>victim_gender</th>\n",
              "      <th>weapon_used</th>\n",
              "      <th>crime_domain</th>\n",
              "      <th>police_deployed</th>\n",
              "      <th>case_closed</th>\n",
              "      <th>date_case_closed</th>\n",
              "    </tr>\n",
              "    <tr>\n",
              "      <th>date_of_occurrence</th>\n",
              "      <th></th>\n",
              "      <th></th>\n",
              "      <th></th>\n",
              "      <th></th>\n",
              "      <th></th>\n",
              "      <th></th>\n",
              "      <th></th>\n",
              "      <th></th>\n",
              "      <th></th>\n",
              "      <th></th>\n",
              "      <th></th>\n",
              "      <th></th>\n",
              "      <th></th>\n",
              "    </tr>\n",
              "  </thead>\n",
              "  <tbody>\n",
              "    <tr>\n",
              "      <th>2020-01-01 00:00:00</th>\n",
              "      <td>1</td>\n",
              "      <td>2020-02-01 00:00:00</td>\n",
              "      <td>2020-01-01 01:11:00</td>\n",
              "      <td>Ahmedabad</td>\n",
              "      <td>576</td>\n",
              "      <td>IDENTITY THEFT</td>\n",
              "      <td>16</td>\n",
              "      <td>M</td>\n",
              "      <td>Blunt Object</td>\n",
              "      <td>Violent Crime</td>\n",
              "      <td>13</td>\n",
              "      <td>No</td>\n",
              "      <td>NaT</td>\n",
              "    </tr>\n",
              "    <tr>\n",
              "      <th>2020-01-01 01:00:00</th>\n",
              "      <td>2</td>\n",
              "      <td>2020-01-01 19:00:00</td>\n",
              "      <td>2020-01-01 06:26:00</td>\n",
              "      <td>Chennai</td>\n",
              "      <td>128</td>\n",
              "      <td>HOMICIDE</td>\n",
              "      <td>37</td>\n",
              "      <td>M</td>\n",
              "      <td>Poison</td>\n",
              "      <td>Other Crime</td>\n",
              "      <td>9</td>\n",
              "      <td>No</td>\n",
              "      <td>NaT</td>\n",
              "    </tr>\n",
              "    <tr>\n",
              "      <th>2020-01-01 02:00:00</th>\n",
              "      <td>3</td>\n",
              "      <td>2020-02-01 05:00:00</td>\n",
              "      <td>2020-01-01 14:30:00</td>\n",
              "      <td>Ludhiana</td>\n",
              "      <td>271</td>\n",
              "      <td>KIDNAPPING</td>\n",
              "      <td>48</td>\n",
              "      <td>F</td>\n",
              "      <td>Blunt Object</td>\n",
              "      <td>Other Crime</td>\n",
              "      <td>15</td>\n",
              "      <td>No</td>\n",
              "      <td>NaT</td>\n",
              "    </tr>\n",
              "    <tr>\n",
              "      <th>2020-01-01 03:00:00</th>\n",
              "      <td>4</td>\n",
              "      <td>2020-01-01 05:00:00</td>\n",
              "      <td>2020-01-01 14:46:00</td>\n",
              "      <td>Pune</td>\n",
              "      <td>170</td>\n",
              "      <td>BURGLARY</td>\n",
              "      <td>49</td>\n",
              "      <td>F</td>\n",
              "      <td>Firearm</td>\n",
              "      <td>Other Crime</td>\n",
              "      <td>1</td>\n",
              "      <td>Yes</td>\n",
              "      <td>2020-04-29 05:00:00</td>\n",
              "    </tr>\n",
              "    <tr>\n",
              "      <th>2020-01-01 04:00:00</th>\n",
              "      <td>5</td>\n",
              "      <td>2020-01-01 21:00:00</td>\n",
              "      <td>2020-01-01 16:51:00</td>\n",
              "      <td>Pune</td>\n",
              "      <td>421</td>\n",
              "      <td>VANDALISM</td>\n",
              "      <td>30</td>\n",
              "      <td>F</td>\n",
              "      <td>Other</td>\n",
              "      <td>Other Crime</td>\n",
              "      <td>18</td>\n",
              "      <td>Yes</td>\n",
              "      <td>2020-08-01 21:00:00</td>\n",
              "    </tr>\n",
              "  </tbody>\n",
              "</table>\n",
              "</div>\n",
              "    <div class=\"colab-df-buttons\">\n",
              "\n",
              "  <div class=\"colab-df-container\">\n",
              "    <button class=\"colab-df-convert\" onclick=\"convertToInteractive('df-456eeeca-ca5f-4411-be95-5e356766d791')\"\n",
              "            title=\"Convert this dataframe to an interactive table.\"\n",
              "            style=\"display:none;\">\n",
              "\n",
              "  <svg xmlns=\"http://www.w3.org/2000/svg\" height=\"24px\" viewBox=\"0 -960 960 960\">\n",
              "    <path d=\"M120-120v-720h720v720H120Zm60-500h600v-160H180v160Zm220 220h160v-160H400v160Zm0 220h160v-160H400v160ZM180-400h160v-160H180v160Zm440 0h160v-160H620v160ZM180-180h160v-160H180v160Zm440 0h160v-160H620v160Z\"/>\n",
              "  </svg>\n",
              "    </button>\n",
              "\n",
              "  <style>\n",
              "    .colab-df-container {\n",
              "      display:flex;\n",
              "      gap: 12px;\n",
              "    }\n",
              "\n",
              "    .colab-df-convert {\n",
              "      background-color: #E8F0FE;\n",
              "      border: none;\n",
              "      border-radius: 50%;\n",
              "      cursor: pointer;\n",
              "      display: none;\n",
              "      fill: #1967D2;\n",
              "      height: 32px;\n",
              "      padding: 0 0 0 0;\n",
              "      width: 32px;\n",
              "    }\n",
              "\n",
              "    .colab-df-convert:hover {\n",
              "      background-color: #E2EBFA;\n",
              "      box-shadow: 0px 1px 2px rgba(60, 64, 67, 0.3), 0px 1px 3px 1px rgba(60, 64, 67, 0.15);\n",
              "      fill: #174EA6;\n",
              "    }\n",
              "\n",
              "    .colab-df-buttons div {\n",
              "      margin-bottom: 4px;\n",
              "    }\n",
              "\n",
              "    [theme=dark] .colab-df-convert {\n",
              "      background-color: #3B4455;\n",
              "      fill: #D2E3FC;\n",
              "    }\n",
              "\n",
              "    [theme=dark] .colab-df-convert:hover {\n",
              "      background-color: #434B5C;\n",
              "      box-shadow: 0px 1px 3px 1px rgba(0, 0, 0, 0.15);\n",
              "      filter: drop-shadow(0px 1px 2px rgba(0, 0, 0, 0.3));\n",
              "      fill: #FFFFFF;\n",
              "    }\n",
              "  </style>\n",
              "\n",
              "    <script>\n",
              "      const buttonEl =\n",
              "        document.querySelector('#df-456eeeca-ca5f-4411-be95-5e356766d791 button.colab-df-convert');\n",
              "      buttonEl.style.display =\n",
              "        google.colab.kernel.accessAllowed ? 'block' : 'none';\n",
              "\n",
              "      async function convertToInteractive(key) {\n",
              "        const element = document.querySelector('#df-456eeeca-ca5f-4411-be95-5e356766d791');\n",
              "        const dataTable =\n",
              "          await google.colab.kernel.invokeFunction('convertToInteractive',\n",
              "                                                    [key], {});\n",
              "        if (!dataTable) return;\n",
              "\n",
              "        const docLinkHtml = 'Like what you see? Visit the ' +\n",
              "          '<a target=\"_blank\" href=https://colab.research.google.com/notebooks/data_table.ipynb>data table notebook</a>'\n",
              "          + ' to learn more about interactive tables.';\n",
              "        element.innerHTML = '';\n",
              "        dataTable['output_type'] = 'display_data';\n",
              "        await google.colab.output.renderOutput(dataTable, element);\n",
              "        const docLink = document.createElement('div');\n",
              "        docLink.innerHTML = docLinkHtml;\n",
              "        element.appendChild(docLink);\n",
              "      }\n",
              "    </script>\n",
              "  </div>\n",
              "\n",
              "\n",
              "<div id=\"df-477374d5-b289-43b3-9684-01774b1e13f8\">\n",
              "  <button class=\"colab-df-quickchart\" onclick=\"quickchart('df-477374d5-b289-43b3-9684-01774b1e13f8')\"\n",
              "            title=\"Suggest charts\"\n",
              "            style=\"display:none;\">\n",
              "\n",
              "<svg xmlns=\"http://www.w3.org/2000/svg\" height=\"24px\"viewBox=\"0 0 24 24\"\n",
              "     width=\"24px\">\n",
              "    <g>\n",
              "        <path d=\"M19 3H5c-1.1 0-2 .9-2 2v14c0 1.1.9 2 2 2h14c1.1 0 2-.9 2-2V5c0-1.1-.9-2-2-2zM9 17H7v-7h2v7zm4 0h-2V7h2v10zm4 0h-2v-4h2v4z\"/>\n",
              "    </g>\n",
              "</svg>\n",
              "  </button>\n",
              "\n",
              "<style>\n",
              "  .colab-df-quickchart {\n",
              "      --bg-color: #E8F0FE;\n",
              "      --fill-color: #1967D2;\n",
              "      --hover-bg-color: #E2EBFA;\n",
              "      --hover-fill-color: #174EA6;\n",
              "      --disabled-fill-color: #AAA;\n",
              "      --disabled-bg-color: #DDD;\n",
              "  }\n",
              "\n",
              "  [theme=dark] .colab-df-quickchart {\n",
              "      --bg-color: #3B4455;\n",
              "      --fill-color: #D2E3FC;\n",
              "      --hover-bg-color: #434B5C;\n",
              "      --hover-fill-color: #FFFFFF;\n",
              "      --disabled-bg-color: #3B4455;\n",
              "      --disabled-fill-color: #666;\n",
              "  }\n",
              "\n",
              "  .colab-df-quickchart {\n",
              "    background-color: var(--bg-color);\n",
              "    border: none;\n",
              "    border-radius: 50%;\n",
              "    cursor: pointer;\n",
              "    display: none;\n",
              "    fill: var(--fill-color);\n",
              "    height: 32px;\n",
              "    padding: 0;\n",
              "    width: 32px;\n",
              "  }\n",
              "\n",
              "  .colab-df-quickchart:hover {\n",
              "    background-color: var(--hover-bg-color);\n",
              "    box-shadow: 0 1px 2px rgba(60, 64, 67, 0.3), 0 1px 3px 1px rgba(60, 64, 67, 0.15);\n",
              "    fill: var(--button-hover-fill-color);\n",
              "  }\n",
              "\n",
              "  .colab-df-quickchart-complete:disabled,\n",
              "  .colab-df-quickchart-complete:disabled:hover {\n",
              "    background-color: var(--disabled-bg-color);\n",
              "    fill: var(--disabled-fill-color);\n",
              "    box-shadow: none;\n",
              "  }\n",
              "\n",
              "  .colab-df-spinner {\n",
              "    border: 2px solid var(--fill-color);\n",
              "    border-color: transparent;\n",
              "    border-bottom-color: var(--fill-color);\n",
              "    animation:\n",
              "      spin 1s steps(1) infinite;\n",
              "  }\n",
              "\n",
              "  @keyframes spin {\n",
              "    0% {\n",
              "      border-color: transparent;\n",
              "      border-bottom-color: var(--fill-color);\n",
              "      border-left-color: var(--fill-color);\n",
              "    }\n",
              "    20% {\n",
              "      border-color: transparent;\n",
              "      border-left-color: var(--fill-color);\n",
              "      border-top-color: var(--fill-color);\n",
              "    }\n",
              "    30% {\n",
              "      border-color: transparent;\n",
              "      border-left-color: var(--fill-color);\n",
              "      border-top-color: var(--fill-color);\n",
              "      border-right-color: var(--fill-color);\n",
              "    }\n",
              "    40% {\n",
              "      border-color: transparent;\n",
              "      border-right-color: var(--fill-color);\n",
              "      border-top-color: var(--fill-color);\n",
              "    }\n",
              "    60% {\n",
              "      border-color: transparent;\n",
              "      border-right-color: var(--fill-color);\n",
              "    }\n",
              "    80% {\n",
              "      border-color: transparent;\n",
              "      border-right-color: var(--fill-color);\n",
              "      border-bottom-color: var(--fill-color);\n",
              "    }\n",
              "    90% {\n",
              "      border-color: transparent;\n",
              "      border-bottom-color: var(--fill-color);\n",
              "    }\n",
              "  }\n",
              "</style>\n",
              "\n",
              "  <script>\n",
              "    async function quickchart(key) {\n",
              "      const quickchartButtonEl =\n",
              "        document.querySelector('#' + key + ' button');\n",
              "      quickchartButtonEl.disabled = true;  // To prevent multiple clicks.\n",
              "      quickchartButtonEl.classList.add('colab-df-spinner');\n",
              "      try {\n",
              "        const charts = await google.colab.kernel.invokeFunction(\n",
              "            'suggestCharts', [key], {});\n",
              "      } catch (error) {\n",
              "        console.error('Error during call to suggestCharts:', error);\n",
              "      }\n",
              "      quickchartButtonEl.classList.remove('colab-df-spinner');\n",
              "      quickchartButtonEl.classList.add('colab-df-quickchart-complete');\n",
              "    }\n",
              "    (() => {\n",
              "      let quickchartButtonEl =\n",
              "        document.querySelector('#df-477374d5-b289-43b3-9684-01774b1e13f8 button');\n",
              "      quickchartButtonEl.style.display =\n",
              "        google.colab.kernel.accessAllowed ? 'block' : 'none';\n",
              "    })();\n",
              "  </script>\n",
              "</div>\n",
              "\n",
              "    </div>\n",
              "  </div>\n"
            ],
            "application/vnd.google.colaboratory.intrinsic+json": {
              "type": "dataframe",
              "variable_name": "data",
              "summary": "{\n  \"name\": \"data\",\n  \"rows\": 40160,\n  \"fields\": [\n    {\n      \"column\": \"date_of_occurrence\",\n      \"properties\": {\n        \"dtype\": \"date\",\n        \"min\": \"2020-01-01 00:00:00\",\n        \"max\": \"2024-07-31 07:00:00\",\n        \"num_unique_values\": 40160,\n        \"samples\": [\n          \"2021-04-04 15:00:00\",\n          \"2021-03-13 18:00:00\",\n          \"2024-02-25 14:00:00\"\n        ],\n        \"semantic_type\": \"\",\n        \"description\": \"\"\n      }\n    },\n    {\n      \"column\": \"report_number\",\n      \"properties\": {\n        \"dtype\": \"number\",\n        \"std\": 11593,\n        \"min\": 1,\n        \"max\": 40160,\n        \"num_unique_values\": 40160,\n        \"samples\": [\n          11032,\n          10507,\n          36399\n        ],\n        \"semantic_type\": \"\",\n        \"description\": \"\"\n      }\n    },\n    {\n      \"column\": \"date_reported\",\n      \"properties\": {\n        \"dtype\": \"date\",\n        \"min\": \"2020-01-01 05:00:00\",\n        \"max\": \"2024-12-07 21:00:00\",\n        \"num_unique_values\": 25546,\n        \"samples\": [\n          \"2021-09-03 12:00:00\",\n          \"2023-06-08 04:00:00\",\n          \"2022-01-27 08:00:00\"\n        ],\n        \"semantic_type\": \"\",\n        \"description\": \"\"\n      }\n    },\n    {\n      \"column\": \"time_of_occurrence\",\n      \"properties\": {\n        \"dtype\": \"date\",\n        \"min\": \"2020-01-01 01:11:00\",\n        \"max\": \"2024-12-07 23:29:00\",\n        \"num_unique_values\": 39886,\n        \"samples\": [\n          \"2021-01-04 19:34:00\",\n          \"2020-02-06 20:29:00\",\n          \"2020-05-22 11:56:00\"\n        ],\n        \"semantic_type\": \"\",\n        \"description\": \"\"\n      }\n    },\n    {\n      \"column\": \"city\",\n      \"properties\": {\n        \"dtype\": \"category\",\n        \"num_unique_values\": 29,\n        \"samples\": [\n          \"Srinagar\",\n          \"Kanpur\",\n          \"Jaipur\"\n        ],\n        \"semantic_type\": \"\",\n        \"description\": \"\"\n      }\n    },\n    {\n      \"column\": \"crime_code\",\n      \"properties\": {\n        \"dtype\": \"number\",\n        \"std\": 144,\n        \"min\": 100,\n        \"max\": 599,\n        \"num_unique_values\": 500,\n        \"samples\": [\n          382,\n          197,\n          149\n        ],\n        \"semantic_type\": \"\",\n        \"description\": \"\"\n      }\n    },\n    {\n      \"column\": \"crime_description\",\n      \"properties\": {\n        \"dtype\": \"category\",\n        \"num_unique_values\": 21,\n        \"samples\": [\n          \"IDENTITY THEFT\",\n          \"ILLEGAL POSSESSION\",\n          \"TRAFFIC VIOLATION\"\n        ],\n        \"semantic_type\": \"\",\n        \"description\": \"\"\n      }\n    },\n    {\n      \"column\": \"victim_age\",\n      \"properties\": {\n        \"dtype\": \"number\",\n        \"std\": 20,\n        \"min\": 10,\n        \"max\": 79,\n        \"num_unique_values\": 70,\n        \"samples\": [\n          33,\n          16,\n          10\n        ],\n        \"semantic_type\": \"\",\n        \"description\": \"\"\n      }\n    },\n    {\n      \"column\": \"victim_gender\",\n      \"properties\": {\n        \"dtype\": \"category\",\n        \"num_unique_values\": 3,\n        \"samples\": [\n          \"M\",\n          \"F\",\n          \"X\"\n        ],\n        \"semantic_type\": \"\",\n        \"description\": \"\"\n      }\n    },\n    {\n      \"column\": \"weapon_used\",\n      \"properties\": {\n        \"dtype\": \"category\",\n        \"num_unique_values\": 6,\n        \"samples\": [\n          \"Blunt Object\",\n          \"Poison\",\n          \"Explosives\"\n        ],\n        \"semantic_type\": \"\",\n        \"description\": \"\"\n      }\n    },\n    {\n      \"column\": \"crime_domain\",\n      \"properties\": {\n        \"dtype\": \"category\",\n        \"num_unique_values\": 4,\n        \"samples\": [\n          \"Other Crime\",\n          \"Traffic Fatality\",\n          \"Violent Crime\"\n        ],\n        \"semantic_type\": \"\",\n        \"description\": \"\"\n      }\n    },\n    {\n      \"column\": \"police_deployed\",\n      \"properties\": {\n        \"dtype\": \"number\",\n        \"std\": 5,\n        \"min\": 1,\n        \"max\": 19,\n        \"num_unique_values\": 19,\n        \"samples\": [\n          13,\n          8,\n          6\n        ],\n        \"semantic_type\": \"\",\n        \"description\": \"\"\n      }\n    },\n    {\n      \"column\": \"case_closed\",\n      \"properties\": {\n        \"dtype\": \"category\",\n        \"num_unique_values\": 2,\n        \"samples\": [\n          \"Yes\",\n          \"No\"\n        ],\n        \"semantic_type\": \"\",\n        \"description\": \"\"\n      }\n    },\n    {\n      \"column\": \"date_case_closed\",\n      \"properties\": {\n        \"dtype\": \"date\",\n        \"min\": \"2020-01-02 00:00:00\",\n        \"max\": \"2026-11-04 22:00:00\",\n        \"num_unique_values\": 16011,\n        \"samples\": [\n          \"2024-01-21 22:00:00\",\n          \"2023-06-07 02:00:00\"\n        ],\n        \"semantic_type\": \"\",\n        \"description\": \"\"\n      }\n    }\n  ]\n}"
            }
          },
          "metadata": {},
          "execution_count": 426
        }
      ]
    },
    {
      "cell_type": "code",
      "source": [
        "data.info()"
      ],
      "metadata": {
        "colab": {
          "base_uri": "https://localhost:8080/"
        },
        "id": "PxRROsWZ8uzo",
        "outputId": "49cd9340-49cc-4dc8-9e74-dffa67a70bf2"
      },
      "execution_count": 427,
      "outputs": [
        {
          "output_type": "stream",
          "name": "stdout",
          "text": [
            "<class 'pandas.core.frame.DataFrame'>\n",
            "DatetimeIndex: 40160 entries, 2020-01-01 00:00:00 to 2024-07-31 07:00:00\n",
            "Data columns (total 13 columns):\n",
            " #   Column              Non-Null Count  Dtype         \n",
            "---  ------              --------------  -----         \n",
            " 0   report_number       40160 non-null  int64         \n",
            " 1   date_reported       40160 non-null  datetime64[ns]\n",
            " 2   time_of_occurrence  40160 non-null  datetime64[ns]\n",
            " 3   city                40160 non-null  object        \n",
            " 4   crime_code          40160 non-null  int64         \n",
            " 5   crime_description   40160 non-null  object        \n",
            " 6   victim_age          40160 non-null  int64         \n",
            " 7   victim_gender       40160 non-null  object        \n",
            " 8   weapon_used         34370 non-null  object        \n",
            " 9   crime_domain        40160 non-null  object        \n",
            " 10  police_deployed     40160 non-null  int64         \n",
            " 11  case_closed         40160 non-null  object        \n",
            " 12  date_case_closed    20062 non-null  datetime64[ns]\n",
            "dtypes: datetime64[ns](3), int64(4), object(6)\n",
            "memory usage: 4.3+ MB\n"
          ]
        }
      ]
    },
    {
      "cell_type": "code",
      "source": [
        "# Find Missing values\n",
        "data.isna().sum()"
      ],
      "metadata": {
        "colab": {
          "base_uri": "https://localhost:8080/",
          "height": 492
        },
        "id": "RXKGnVdK9BFl",
        "outputId": "ba9a2958-f4c6-4dda-dd9e-858e8db88d47"
      },
      "execution_count": 428,
      "outputs": [
        {
          "output_type": "execute_result",
          "data": {
            "text/plain": [
              "report_number             0\n",
              "date_reported             0\n",
              "time_of_occurrence        0\n",
              "city                      0\n",
              "crime_code                0\n",
              "crime_description         0\n",
              "victim_age                0\n",
              "victim_gender             0\n",
              "weapon_used            5790\n",
              "crime_domain              0\n",
              "police_deployed           0\n",
              "case_closed               0\n",
              "date_case_closed      20098\n",
              "dtype: int64"
            ],
            "text/html": [
              "<div>\n",
              "<style scoped>\n",
              "    .dataframe tbody tr th:only-of-type {\n",
              "        vertical-align: middle;\n",
              "    }\n",
              "\n",
              "    .dataframe tbody tr th {\n",
              "        vertical-align: top;\n",
              "    }\n",
              "\n",
              "    .dataframe thead th {\n",
              "        text-align: right;\n",
              "    }\n",
              "</style>\n",
              "<table border=\"1\" class=\"dataframe\">\n",
              "  <thead>\n",
              "    <tr style=\"text-align: right;\">\n",
              "      <th></th>\n",
              "      <th>0</th>\n",
              "    </tr>\n",
              "  </thead>\n",
              "  <tbody>\n",
              "    <tr>\n",
              "      <th>report_number</th>\n",
              "      <td>0</td>\n",
              "    </tr>\n",
              "    <tr>\n",
              "      <th>date_reported</th>\n",
              "      <td>0</td>\n",
              "    </tr>\n",
              "    <tr>\n",
              "      <th>time_of_occurrence</th>\n",
              "      <td>0</td>\n",
              "    </tr>\n",
              "    <tr>\n",
              "      <th>city</th>\n",
              "      <td>0</td>\n",
              "    </tr>\n",
              "    <tr>\n",
              "      <th>crime_code</th>\n",
              "      <td>0</td>\n",
              "    </tr>\n",
              "    <tr>\n",
              "      <th>crime_description</th>\n",
              "      <td>0</td>\n",
              "    </tr>\n",
              "    <tr>\n",
              "      <th>victim_age</th>\n",
              "      <td>0</td>\n",
              "    </tr>\n",
              "    <tr>\n",
              "      <th>victim_gender</th>\n",
              "      <td>0</td>\n",
              "    </tr>\n",
              "    <tr>\n",
              "      <th>weapon_used</th>\n",
              "      <td>5790</td>\n",
              "    </tr>\n",
              "    <tr>\n",
              "      <th>crime_domain</th>\n",
              "      <td>0</td>\n",
              "    </tr>\n",
              "    <tr>\n",
              "      <th>police_deployed</th>\n",
              "      <td>0</td>\n",
              "    </tr>\n",
              "    <tr>\n",
              "      <th>case_closed</th>\n",
              "      <td>0</td>\n",
              "    </tr>\n",
              "    <tr>\n",
              "      <th>date_case_closed</th>\n",
              "      <td>20098</td>\n",
              "    </tr>\n",
              "  </tbody>\n",
              "</table>\n",
              "</div><br><label><b>dtype:</b> int64</label>"
            ]
          },
          "metadata": {},
          "execution_count": 428
        }
      ]
    },
    {
      "cell_type": "code",
      "source": [
        "#Handle missing values for weapon_used column\n",
        "data.weapon_used.fillna('Unknown', inplace=True)"
      ],
      "metadata": {
        "id": "gmrwhmny9aH1"
      },
      "execution_count": 429,
      "outputs": []
    },
    {
      "cell_type": "code",
      "source": [
        "#Handle missing values for date_case_closed column\n",
        "# If case is closed and and close date is unknow then update todays date as closed date\n",
        "print(f'Unique values for case closed : {data.case_closed.unique()}')\n",
        "data[data.case_closed=='Yes'].date_case_closed.isna().sum()"
      ],
      "metadata": {
        "colab": {
          "base_uri": "https://localhost:8080/"
        },
        "id": "K-gBUKKW9rtJ",
        "outputId": "7a12ca97-3760-4b3c-dd41-68e66bedd26a"
      },
      "execution_count": 430,
      "outputs": [
        {
          "output_type": "stream",
          "name": "stdout",
          "text": [
            "Unique values for case closed : ['No' 'Yes']\n"
          ]
        },
        {
          "output_type": "execute_result",
          "data": {
            "text/plain": [
              "0"
            ]
          },
          "metadata": {},
          "execution_count": 430
        }
      ]
    },
    {
      "cell_type": "code",
      "source": [
        "# Verify missing values after handling missing values\n",
        "data.isna().sum()"
      ],
      "metadata": {
        "colab": {
          "base_uri": "https://localhost:8080/",
          "height": 492
        },
        "id": "_A4nHetDABn6",
        "outputId": "b8160191-13ef-4979-d326-92ad6367bdc2"
      },
      "execution_count": 431,
      "outputs": [
        {
          "output_type": "execute_result",
          "data": {
            "text/plain": [
              "report_number             0\n",
              "date_reported             0\n",
              "time_of_occurrence        0\n",
              "city                      0\n",
              "crime_code                0\n",
              "crime_description         0\n",
              "victim_age                0\n",
              "victim_gender             0\n",
              "weapon_used               0\n",
              "crime_domain              0\n",
              "police_deployed           0\n",
              "case_closed               0\n",
              "date_case_closed      20098\n",
              "dtype: int64"
            ],
            "text/html": [
              "<div>\n",
              "<style scoped>\n",
              "    .dataframe tbody tr th:only-of-type {\n",
              "        vertical-align: middle;\n",
              "    }\n",
              "\n",
              "    .dataframe tbody tr th {\n",
              "        vertical-align: top;\n",
              "    }\n",
              "\n",
              "    .dataframe thead th {\n",
              "        text-align: right;\n",
              "    }\n",
              "</style>\n",
              "<table border=\"1\" class=\"dataframe\">\n",
              "  <thead>\n",
              "    <tr style=\"text-align: right;\">\n",
              "      <th></th>\n",
              "      <th>0</th>\n",
              "    </tr>\n",
              "  </thead>\n",
              "  <tbody>\n",
              "    <tr>\n",
              "      <th>report_number</th>\n",
              "      <td>0</td>\n",
              "    </tr>\n",
              "    <tr>\n",
              "      <th>date_reported</th>\n",
              "      <td>0</td>\n",
              "    </tr>\n",
              "    <tr>\n",
              "      <th>time_of_occurrence</th>\n",
              "      <td>0</td>\n",
              "    </tr>\n",
              "    <tr>\n",
              "      <th>city</th>\n",
              "      <td>0</td>\n",
              "    </tr>\n",
              "    <tr>\n",
              "      <th>crime_code</th>\n",
              "      <td>0</td>\n",
              "    </tr>\n",
              "    <tr>\n",
              "      <th>crime_description</th>\n",
              "      <td>0</td>\n",
              "    </tr>\n",
              "    <tr>\n",
              "      <th>victim_age</th>\n",
              "      <td>0</td>\n",
              "    </tr>\n",
              "    <tr>\n",
              "      <th>victim_gender</th>\n",
              "      <td>0</td>\n",
              "    </tr>\n",
              "    <tr>\n",
              "      <th>weapon_used</th>\n",
              "      <td>0</td>\n",
              "    </tr>\n",
              "    <tr>\n",
              "      <th>crime_domain</th>\n",
              "      <td>0</td>\n",
              "    </tr>\n",
              "    <tr>\n",
              "      <th>police_deployed</th>\n",
              "      <td>0</td>\n",
              "    </tr>\n",
              "    <tr>\n",
              "      <th>case_closed</th>\n",
              "      <td>0</td>\n",
              "    </tr>\n",
              "    <tr>\n",
              "      <th>date_case_closed</th>\n",
              "      <td>20098</td>\n",
              "    </tr>\n",
              "  </tbody>\n",
              "</table>\n",
              "</div><br><label><b>dtype:</b> int64</label>"
            ]
          },
          "metadata": {},
          "execution_count": 431
        }
      ]
    },
    {
      "cell_type": "code",
      "source": [
        "#Handle duplicates\n",
        "print(f'Number of duplicate rows :{data.duplicated().sum()}')\n",
        "#There are no duplicate rows hence no need to drop any rows"
      ],
      "metadata": {
        "colab": {
          "base_uri": "https://localhost:8080/"
        },
        "id": "iT_akQeuA6hl",
        "outputId": "658ddf59-919a-4d4b-89bf-cd329f171ead"
      },
      "execution_count": 432,
      "outputs": [
        {
          "output_type": "stream",
          "name": "stdout",
          "text": [
            "Number of duplicate rows :0\n"
          ]
        }
      ]
    },
    {
      "cell_type": "markdown",
      "source": [
        "# Exploratory Data Analysis (EDA)\n",
        "\n",
        "Let's explore the data to find interesting patterns and insights.\n"
      ],
      "metadata": {
        "id": "9eHGofs-757B"
      }
    },
    {
      "cell_type": "code",
      "source": [],
      "metadata": {
        "id": "ouoy3sFdccVe"
      },
      "execution_count": 432,
      "outputs": []
    },
    {
      "cell_type": "code",
      "source": [
        "# Plot Distribution of crimes by Year\n",
        "year_wise_data = data.resample('Y').size().reset_index(name='no_of_crimes')\n",
        "figure, axes = plt.subplots(1, 1, figsize=(15,5))\n",
        "years = year_wise_data.date_of_occurrence.dt.year.astype('string')\n",
        "axes.plot(years, year_wise_data.no_of_crimes,marker='o')\n",
        "axes.set_title('Distribution of crimes by Year')\n",
        "axes.grid()\n",
        "figure.tight_layout()\n",
        "plt.show()\n"
      ],
      "metadata": {
        "colab": {
          "base_uri": "https://localhost:8080/",
          "height": 507
        },
        "id": "WHr0uMyBKdFX",
        "outputId": "865b2860-6c03-41be-d09c-6e808d4ff3de"
      },
      "execution_count": 433,
      "outputs": [
        {
          "output_type": "display_data",
          "data": {
            "text/plain": [
              "<Figure size 1500x500 with 1 Axes>"
            ],
            "image/png": "[encoded data removed]"
          },
          "metadata": {}
        }
      ]
    },
    {
      "cell_type": "markdown",
      "source": [
        "The above graph indicates that crime rate is same across the year befor dropping drastically in 2024\n",
        "\n",
        "\n"
      ],
      "metadata": {
        "id": "e0ccQDLlNQPd"
      }
    },
    {
      "cell_type": "code",
      "source": [
        "# Plot Distribution of crimes by day of the week\n",
        "day_wise_data= data.resample('D').size().reset_index(name='no_of_crimes')\n",
        "day_wise_data['day_name'] = day_wise_data.date_of_occurrence.dt.day_name()\n",
        "day_wise_data['day_of_week'] = day_wise_data.date_of_occurrence.dt.day_of_week\n",
        "day_wise_data = day_wise_data.groupby(['day_of_week','day_name'])['no_of_crimes'].sum().reset_index(name='no_of_crimes')\n",
        "figure, axes = plt.subplots(1,1, figsize=(10,5))\n",
        "plt.yticks(list(range(500, 6500, 250)))\n",
        "axes.set_title('Distribution of crimes by Day of the Week')\n",
        "axes.bar(day_wise_data.day_name.values, day_wise_data.no_of_crimes.values)\n",
        "figure.tight_layout()\n",
        "figure.show()\n"
      ],
      "metadata": {
        "colab": {
          "base_uri": "https://localhost:8080/",
          "height": 507
        },
        "id": "1S-Vi92WvyWu",
        "outputId": "f4023288-d75f-4813-b439-8b367db0b88b"
      },
      "execution_count": 434,
      "outputs": [
        {
          "output_type": "display_data",
          "data": {
            "text/plain": [
              "<Figure size 1000x500 with 1 Axes>"
            ],
            "image/png": "[encoded data removed]"
          },
          "metadata": {}
        }
      ]
    },
    {
      "cell_type": "markdown",
      "source": [
        "The above graph indicates that crime rate is same for all the days of the weeks"
      ],
      "metadata": {
        "id": "7wq94ptmNjD5"
      }
    },
    {
      "cell_type": "code",
      "source": [
        "# Distribution of crimes by Hour\n",
        "hour_wise_data = data.resample('H').size().reset_index(name='no_of_crimes')\n",
        "hour_wise_data['time'] = hour_wise_data.date_of_occurrence.dt.time\n",
        "hour_wise_data = hour_wise_data.groupby(['time'])['no_of_crimes'].sum().reset_index(name='no_of_crimes')\n",
        "\n",
        "figure, a = plt.subplots(1,1,figsize=(20,5))\n",
        "a.set_title('Distribution of crimes by Hour')\n",
        "a.plot(hour_wise_data.time.astype('string'), hour_wise_data.no_of_crimes, marker='o')\n",
        "figure.tight_layout()\n",
        "plt.grid()\n",
        "figure.show()"
      ],
      "metadata": {
        "colab": {
          "base_uri": "https://localhost:8080/",
          "height": 459
        },
        "id": "RyYp-FEYDmIi",
        "outputId": "ecc7005c-ef46-42f0-f525-283b1e291200"
      },
      "execution_count": 435,
      "outputs": [
        {
          "output_type": "display_data",
          "data": {
            "text/plain": [
              "<Figure size 2000x500 with 1 Axes>"
            ],
            "image/png": "[encoded data removed]"
          },
          "metadata": {}
        }
      ]
    },
    {
      "cell_type": "markdown",
      "source": [
        "The above graph indicates that the crime rate is more between midnight 12 AM to 8 AM"
      ],
      "metadata": {
        "id": "D66n6gnDNvk9"
      }
    },
    {
      "cell_type": "code",
      "source": [
        "# Distribution of crimes by Hour\n",
        "city_wise_data = data.groupby(['city']).size().reset_index(name='no_of_crimes').sort_values(by = 'no_of_crimes', ascending=False)\n",
        "figure, axes = plt.subplots(1,1, figsize=(15,5))\n",
        "axes.bar(city_wise_data.city, city_wise_data.no_of_crimes)\n",
        "axes.set_title('Distribution of crimes by cities')\n",
        "figure.tight_layout()\n",
        "plt.xticks(rotation=90)\n",
        "figure.show()\n"
      ],
      "metadata": {
        "colab": {
          "base_uri": "https://localhost:8080/",
          "height": 601
        },
        "id": "5UMsOTIeOPqq",
        "outputId": "e5da20d7-3915-49da-b12b-bc87a5e65048"
      },
      "execution_count": 436,
      "outputs": [
        {
          "output_type": "display_data",
          "data": {
            "text/plain": [
              "<Figure size 1500x500 with 1 Axes>"
            ],
            "image/png": "[encoded data removed]"
          },
          "metadata": {}
        }
      ]
    },
    {
      "cell_type": "markdown",
      "source": [
        "**Above graph indicate that Delhi contributes more crimes followed by Mumbai, Bangalore, Hyderabad, Kalkata, Pune**"
      ],
      "metadata": {
        "id": "1K2b90JQRV5c"
      }
    }
  ]
}